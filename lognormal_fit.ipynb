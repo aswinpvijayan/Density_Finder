{
 "cells": [
  {
   "cell_type": "code",
   "execution_count": 1,
   "metadata": {},
   "outputs": [],
   "source": [
    "import numpy as np\n",
    "import pandas as pd\n",
    "import gc\n",
    "import matplotlib.pyplot as plt\n",
    "from scipy.optimize import curve_fit\n",
    "from numba import jit, float64, guvectorize\n",
    "import timeit\n",
    "%matplotlib nbagg"
   ]
  },
  {
   "cell_type": "code",
   "execution_count": 2,
   "metadata": {},
   "outputs": [],
   "source": [
    "data = np.load('../densitygrid/d10_1200g.npz')\n",
    "delta10 = data['d10_1200g']\n",
    "x_coord = delta10.flatten()"
   ]
  },
  {
   "cell_type": "code",
   "execution_count": 3,
   "metadata": {},
   "outputs": [
    {
     "data": {
      "image/png": "[encoded data removed]",
      "text/plain": [
       "<Figure size 720x576 with 1 Axes>"
      ]
     },
     "metadata": {},
     "output_type": "display_data"
    }
   ],
   "source": [
    "fig, axs = plt.subplots(nrows = 1, ncols = 1, figsize=(10,8), sharex=False, \n",
    "                        sharey=False, facecolor='w', edgecolor='k')\n",
    "weights = np.ones_like(1. + x_coord)/float(len(x_coord))\n",
    "axs.hist(np.log(1.+x_coord), bins = 40, histtype='step', cumulative=True, label='Cumulative',  weights = weights)\n",
    "axs.hist(np.log(1.+x_coord), bins = 40, histtype='step',  weights = weights)\n",
    "axs.set_yscale('log')\n",
    "axs.grid(True)\n",
    "axs.legend(loc='upper left', fontsize = 18, frameon = False)\n",
    "axs.set_xlabel(r'$\\delta$', fontsize = 22)\n",
    "axs.set_ylabel(r'$Frequency$', fontsize = 20)\n",
    "for label in (axs.get_xticklabels() + axs.get_yticklabels()):\n",
    "    label.set_fontsize(18)\n",
    "plt.show()"
   ]
  },
  {
   "cell_type": "markdown",
   "metadata": {},
   "source": [
    "# Fitting for the lognormal distribution"
   ]
  },
  {
   "cell_type": "code",
   "execution_count": 4,
   "metadata": {},
   "outputs": [],
   "source": [
    "@jit(float64(float64[:], float64, float64, float64))\n",
    "def lognormal(x, mean, sig, amp):\n",
    "    \n",
    "    return (amp/(x))*np.exp(-((np.log(x)-mean)**2) / (2*sig**2))\n",
    "\n",
    "@jit(float64[:](float64[:]))\n",
    "def fitfunction(x_coord):\n",
    "    \n",
    "    weights = np.ones_like(1. + x_coord)/float(len(x_coord))\n",
    "\n",
    "    bins, edges = np.histogram(1. + x_coord, bins = 50, weights = weights)\n",
    "\n",
    "    left,right = edges[:-1],edges[1:]\n",
    "    X = np.array([left,right]).T.flatten()\n",
    "    Y = np.array([bins,bins]).T.flatten()\n",
    "\n",
    "    guess = [1.46132049e-02, 0.15, np.mean(Y)]\n",
    "    popt, pcov = curve_fit(lognormal, (edges[:-1]+edges[1:])/2., bins, p0=guess)\n",
    "    \n",
    "    return np.array([popt, pcov.diagonal()])"
   ]
  },
  {
   "cell_type": "code",
   "execution_count": 5,
   "metadata": {},
   "outputs": [
    {
     "name": "stdout",
     "output_type": "stream",
     "text": [
      "0.15600930200837512\n"
     ]
    }
   ],
   "source": [
    "out = fitfunction(x_coord)\n",
    "popt, pcov = out\n",
    "sigma = (np.exp(popt[1]**2) - 1.)*(np.exp(2*popt[0]+popt[1]**2))\n",
    "print (np.sqrt(sigma))"
   ]
  },
  {
   "cell_type": "code",
   "execution_count": 6,
   "metadata": {},
   "outputs": [
    {
     "data": {
      "text/plain": [
       "array([-0.01453883,  0.15544919,  0.10000935])"
      ]
     },
     "execution_count": 6,
     "metadata": {},
     "output_type": "execute_result"
    }
   ],
   "source": [
    "popt"
   ]
  },
  {
   "cell_type": "markdown",
   "metadata": {},
   "source": [
    "# Fitting for normal distribution to the log of the data"
   ]
  },
  {
   "cell_type": "code",
   "execution_count": 7,
   "metadata": {},
   "outputs": [],
   "source": [
    "@jit(float64(float64[:], float64, float64, float64))\n",
    "def normal(x, mean, sig, amp):\n",
    "    \n",
    "    return (amp)*np.exp(-((x-mean)**2) / (2*sig**2))\n",
    "\n",
    "@jit(float64[:](float64[:]))\n",
    "def fitfunction(xfit):\n",
    "    weights = np.ones_like(xfit)/float(len(xfit))\n",
    "\n",
    "    bins, edges = np.histogram(xfit, bins = 50, weights = weights)\n",
    "\n",
    "    left,right = edges[:-1],edges[1:]\n",
    "    X = np.array([left,right]).T.flatten()\n",
    "    Y = np.array([bins,bins]).T.flatten()\n",
    "\n",
    "    guess = [1.46132049e-02, 0.15, np.mean(Y)]\n",
    "    popt, pcov = curve_fit(normal, (edges[:-1]+edges[1:])/2., bins, p0=guess)\n",
    "    \n",
    "    return np.array([popt, pcov.diagonal()])"
   ]
  },
  {
   "cell_type": "code",
   "execution_count": 8,
   "metadata": {},
   "outputs": [
    {
     "name": "stdout",
     "output_type": "stream",
     "text": [
      "[[-1.45829957e-02  1.55670593e-01  8.95134599e-02]\n",
      " [ 9.61612724e-08  9.61612631e-08  2.38465047e-08]]\n"
     ]
    }
   ],
   "source": [
    "out = fitfunction(np.log(1.+x_coord))\n",
    "print (out)\n",
    "popt, pcov = out"
   ]
  },
  {
   "cell_type": "code",
   "execution_count": 9,
   "metadata": {},
   "outputs": [],
   "source": [
    "h = 0.6777  #Hubble parameter being used in the simulations\n",
    "boxsize = 3200*h #Boxsize in h^-1 units\n",
    "r = np.array([10., 15., 20.]) #Radii used for smoothing\n",
    "grid = 1200 #The gridsize being used\n",
    "conv = (boxsize/grid) #Grid lengths in terms of the boxsize "
   ]
  },
  {
   "cell_type": "code",
   "execution_count": 10,
   "metadata": {},
   "outputs": [],
   "source": [
    "def near_coords(pos, r):\n",
    "    \n",
    "    \"\"\"\n",
    "    Gives the coordinates of the points near to the given point inside a a given radius\n",
    "    coords: in terms of the simuation box coordinates\n",
    "    pos_coords: array position\n",
    "    \"\"\"\n",
    "    \n",
    "    a, b, c = pos\n",
    "    pos_coords = []\n",
    "    sz = int(max(r)/conv)+1\n",
    "    \n",
    "    x = np.arange(a-sz, a+sz+1)\n",
    "    y = np.arange(b-sz, b+sz+1)\n",
    "    z = np.arange(c-sz, c+sz+1)\n",
    "    \n",
    "    x[x < 0] += grid\n",
    "    y[y < 0] += grid\n",
    "    z[z < 0] += grid\n",
    "    \n",
    "    x[x >= grid] -= grid\n",
    "    y[y >= grid] -= grid\n",
    "    z[z >= grid] -= grid\n",
    "    \n",
    "    for i in x: \n",
    "        for j in y:\n",
    "            for k in z:\n",
    "                pos_coords.append([i, j, k])\n",
    "    \n",
    "    pos_coords = np.array(pos_coords)\n",
    "    \n",
    "    coords = pos_coords.astype(float)*conv \n",
    "    \n",
    "    return coords, pos_coords\n",
    "\n",
    "@jit(float64[:,:,:](float64[:,:,:]))\n",
    "def get_coords(pos):\n",
    "    \n",
    "    \"\"\"\n",
    "    Given the position of on the density grid it just gives the coordinates in terms of the simualation box\n",
    "    \"\"\"\n",
    "    \n",
    "    x, y, z = pos\n",
    "      \n",
    "    coords = np.zeros((len(x),3))\n",
    "    \n",
    "    coords[:,0] = x.astype(float)*conv \n",
    "    coords[:,1] = y.astype(float)*conv \n",
    "    coords[:,2] = z.astype(float)*conv \n",
    "    \n",
    "    return coords\n"
   ]
  },
  {
   "cell_type": "code",
   "execution_count": 11,
   "metadata": {},
   "outputs": [
    {
     "data": {
      "text/plain": [
       "15907"
      ]
     },
     "execution_count": 11,
     "metadata": {},
     "output_type": "execute_result"
    }
   ],
   "source": [
    "logcoords = np.log(1. + delta10)\n",
    "sigma = popt[1]\n",
    "gc.collect()"
   ]
  },
  {
   "cell_type": "markdown",
   "metadata": {},
   "source": [
    "# Choosing regions for zoom-in simulations\n",
    "\n",
    "For selecting the regions I am going to divide the overdensity (1 + $\\delta$) in logspace into different $\\sigma$ bins. "
   ]
  },
  {
   "cell_type": "code",
   "execution_count": 12,
   "metadata": {},
   "outputs": [
    {
     "name": "stdout",
     "output_type": "stream",
     "text": [
      "       delta          x          y          z\n",
      "0   1.362403    37.9512   668.6640    45.1800\n",
      "1   1.315792   843.9624  1443.9528  1062.6336\n",
      "2   1.299865   802.3968  1337.3280  1086.1272\n",
      "3   1.287445   618.0624  1140.3432  1525.2768\n",
      "4   1.254862  1604.7936  1584.9144  1570.4568\n",
      "5   1.243903   151.8048  1762.0200   534.9312\n",
      "6   1.231921   459.0288  1212.6312  1409.6160\n",
      "7   1.230606    59.6376   885.5280  2099.9664\n",
      "8   1.221547  1049.9832  1785.5136   800.5896\n",
      "9   1.218040   852.9984   397.5840  2130.6888\n",
      "10  1.215995  2078.2800  1409.6160   437.3424\n",
      "11  1.211319   283.7304   867.4560   581.9184\n",
      "12  1.205913   328.9104   146.3832   684.9288\n",
      "13  1.200360  1012.0320  1516.2408  1451.1816\n",
      "14  0.050575   111.8210   248.7160    50.1500\n",
      "15  0.009954   872.8776  1704.1896   446.3784\n",
      "16 -0.009918   440.9568   972.2736   766.2528\n",
      "17 -0.199869   831.3120   390.3552  1093.3560\n",
      "18 -0.113368   533.1240  1664.4312   914.4432\n",
      "19  0.169513   122.8896  1736.7192    63.2520\n",
      "20  0.169366  1895.7528  1368.0504   186.1416\n",
      "21  0.168928  1881.2952  1628.2872   997.5744\n",
      "22  0.169366  1429.4952  1602.9864   455.4144\n",
      "23  0.366039   791.5536  1149.3792  1053.5976\n",
      "24  0.365016   890.9496  1532.5056  1991.5344\n",
      "25  0.366039  1096.9704  1890.3312  1026.4896\n",
      "26  0.365600   601.7976  1012.0320  1622.8656\n"
     ]
    }
   ],
   "source": [
    "#Selecting only regions that do not overlap with each other. Too expensive for low sigma value regions. \n",
    "#So instead of checking with these values its better to check if the regions don't overlap with the already\n",
    "#dresimulated regions.\n",
    "\n",
    "#Loadin in the regions selected already for resimulation\n",
    "already_sel = pd.read_table('GEAGLE_regions/GEAGLE_regions.txt', sep='\\t', comment='#', index_col=False, \n",
    "                            names=['delta', 'x', 'y', 'z'])\n",
    "print (already_sel)\n",
    "\n",
    "def get_overlapping_regions(df, selected):\n",
    "    \n",
    "    out = pd.DataFrame({'delta': 0., 'x': 0., 'y':0., 'z':0.}, index=[0])\n",
    "    for i in selected:\n",
    "        \n",
    "        sep = np.sum((np.array(df)[:,1:]-i)**2, axis = 1)**0.5\n",
    "        sel = np.where(sep <= 8.)[0]\n",
    "           \n",
    "        tmp = df.iloc[sel]\n",
    "        tmp = tmp.sort_values(by=['delta'], ascending=False).reset_index(drop=True)\n",
    "        out = out.append(tmp.iloc[0], ignore_index=True)\n",
    "            \n",
    "    return out.iloc[1:]\n",
    "\n",
    "\n",
    "def remove_overlap_previous(df, prev):\n",
    "    \n",
    "    arr = np.array(df)[:,1:]\n",
    "    \n",
    "    for this in prev:\n",
    "        \n",
    "        sep = np.sum((this-arr)**2, axis = 1)**0.5\n",
    "        if np.sum(this - prev[0]) == 0.:\n",
    "            sel = np.where(sep > 10.)[0]\n",
    "        else:\n",
    "            sel = np.union1d(sel, np.where(sep > 10.)[0])\n",
    "        return df.iloc[sel]"
   ]
  },
  {
   "cell_type": "code",
   "execution_count": 13,
   "metadata": {},
   "outputs": [
    {
     "data": {
      "text/html": [
       "<div>\n",
       "<style scoped>\n",
       "    .dataframe tbody tr th:only-of-type {\n",
       "        vertical-align: middle;\n",
       "    }\n",
       "\n",
       "    .dataframe tbody tr th {\n",
       "        vertical-align: top;\n",
       "    }\n",
       "\n",
       "    .dataframe thead th {\n",
       "        text-align: right;\n",
       "    }\n",
       "</style>\n",
       "<table border=\"1\" class=\"dataframe\">\n",
       "  <thead>\n",
       "    <tr style=\"text-align: right;\">\n",
       "      <th></th>\n",
       "      <th>delta</th>\n",
       "      <th>x</th>\n",
       "      <th>y</th>\n",
       "      <th>z</th>\n",
       "    </tr>\n",
       "  </thead>\n",
       "  <tbody>\n",
       "    <tr>\n",
       "      <th>0</th>\n",
       "      <td>0.0</td>\n",
       "      <td>0.0</td>\n",
       "      <td>0.0</td>\n",
       "      <td>0.0</td>\n",
       "    </tr>\n",
       "  </tbody>\n",
       "</table>\n",
       "</div>"
      ],
      "text/plain": [
       "   delta    x    y    z\n",
       "0    0.0  0.0  0.0  0.0"
      ]
     },
     "execution_count": 13,
     "metadata": {},
     "output_type": "execute_result"
    }
   ],
   "source": [
    "out = pd.DataFrame({'delta': 0., 'x': 0., 'y':0., 'z':0.}, index=[0])\n",
    "out"
   ]
  },
  {
   "cell_type": "markdown",
   "metadata": {},
   "source": [
    "# $1\\sigma - 0.001 \\le log(1+\\delta) \\le 1\\sigma + 0.001$ \n",
    "Alread done. Rows 19-22 of 'already_sel'"
   ]
  },
  {
   "cell_type": "code",
   "execution_count": 14,
   "metadata": {},
   "outputs": [],
   "source": [
    "# tmp = np.where(np.logical_and(logcoords >= sigma-0.001, logcoords <= sigma+0.001))\n",
    "# sigma1_coords = get_coords(tmp)\n",
    "# print (len(sigma1_coords))\n",
    "# sigma1_df = pd.DataFrame({'delta': logcoords[tmp], 'x': sigma1_coords[:,0], 'y': sigma1_coords[:,1], \n",
    "#                           'z': sigma1_coords[:,2]}, index = range(len(sigma1_coords)))\n",
    "# #sigma1_df = sigma1_df.sort_values(by=['delta'], ascending=False).reset_index(drop=True)\n",
    "# sigma1_df = remove_overlap_previous(sigma1_df, np.array(already_sel)[:,1:])\n",
    "# gc.collect()"
   ]
  },
  {
   "cell_type": "code",
   "execution_count": 15,
   "metadata": {},
   "outputs": [],
   "source": [
    "# sel_sigma1 = sigma1_df.sample(n=4)"
   ]
  },
  {
   "cell_type": "code",
   "execution_count": 16,
   "metadata": {},
   "outputs": [],
   "source": [
    "# sel_sigma1"
   ]
  },
  {
   "cell_type": "code",
   "execution_count": 17,
   "metadata": {},
   "outputs": [],
   "source": [
    "# out = get_overlapping_regions(sigma1_df, np.array(sel_sigma1)[:,1:])\n",
    "# out"
   ]
  },
  {
   "cell_type": "markdown",
   "metadata": {},
   "source": [
    "# $2\\sigma-0.001 < log(1+\\delta) \\le 2\\sigma+0.001$ \n",
    "Already selected"
   ]
  },
  {
   "cell_type": "code",
   "execution_count": 21,
   "metadata": {},
   "outputs": [],
   "source": [
    "# tmp = np.where(np.logical_and(logcoords >= 2*sigma-0.001, logcoords <= 2*sigma+0.001))\n",
    "# sigma1_coords = get_coords(tmp)\n",
    "# print (len(sigma1_coords))\n",
    "# sigma2_df = pd.DataFrame({'delta': logcoords[tmp], 'x': sigma2_coords[:,0], 'y': sigma2_coords[:,1], \n",
    "#                           'z': sigma2_coords[:,2]}, index = range(len(sigma2_coords)))\n",
    "# sigma2_df = remove_overlap_previous(sigma2_df, np.array(already_sel)[:,1:])\n",
    "# gc.collect()\n",
    "# sel_sigma2 = sigma2_df.sample(n=6)\n",
    "# sel_sigma2"
   ]
  },
  {
   "cell_type": "code",
   "execution_count": 22,
   "metadata": {},
   "outputs": [],
   "source": [
    "# out = get_overlapping_regions(sigma2_df, np.array(sel_sigma2)[:,1:])\n",
    "# out"
   ]
  },
  {
   "cell_type": "markdown",
   "metadata": {},
   "source": [
    "# $-2\\sigma-0.001 < log(1+\\delta) \\le -2\\sigma+0.001$ "
   ]
  },
  {
   "cell_type": "code",
   "execution_count": 19,
   "metadata": {},
   "outputs": [
    {
     "name": "stdout",
     "output_type": "stream",
     "text": [
      "1361074\n"
     ]
    },
    {
     "data": {
      "text/html": [
       "<div>\n",
       "<style scoped>\n",
       "    .dataframe tbody tr th:only-of-type {\n",
       "        vertical-align: middle;\n",
       "    }\n",
       "\n",
       "    .dataframe tbody tr th {\n",
       "        vertical-align: top;\n",
       "    }\n",
       "\n",
       "    .dataframe thead th {\n",
       "        text-align: right;\n",
       "    }\n",
       "</style>\n",
       "<table border=\"1\" class=\"dataframe\">\n",
       "  <thead>\n",
       "    <tr style=\"text-align: right;\">\n",
       "      <th></th>\n",
       "      <th>delta</th>\n",
       "      <th>x</th>\n",
       "      <th>y</th>\n",
       "      <th>z</th>\n",
       "    </tr>\n",
       "  </thead>\n",
       "  <tbody>\n",
       "    <tr>\n",
       "      <th>250084</th>\n",
       "      <td>-0.310722</td>\n",
       "      <td>393.9696</td>\n",
       "      <td>1893.9456</td>\n",
       "      <td>1689.7320</td>\n",
       "    </tr>\n",
       "    <tr>\n",
       "      <th>361848</th>\n",
       "      <td>-0.311121</td>\n",
       "      <td>569.2680</td>\n",
       "      <td>370.4760</td>\n",
       "      <td>68.6736</td>\n",
       "    </tr>\n",
       "    <tr>\n",
       "      <th>652028</th>\n",
       "      <td>-0.312118</td>\n",
       "      <td>1031.9112</td>\n",
       "      <td>1742.1408</td>\n",
       "      <td>872.8776</td>\n",
       "    </tr>\n",
       "    <tr>\n",
       "      <th>525508</th>\n",
       "      <td>-0.311919</td>\n",
       "      <td>829.5048</td>\n",
       "      <td>2040.3288</td>\n",
       "      <td>1199.9808</td>\n",
       "    </tr>\n",
       "    <tr>\n",
       "      <th>802800</th>\n",
       "      <td>-0.310722</td>\n",
       "      <td>1270.4616</td>\n",
       "      <td>621.6768</td>\n",
       "      <td>574.6896</td>\n",
       "    </tr>\n",
       "    <tr>\n",
       "      <th>65177</th>\n",
       "      <td>-0.310921</td>\n",
       "      <td>101.2032</td>\n",
       "      <td>1608.4080</td>\n",
       "      <td>1863.2232</td>\n",
       "    </tr>\n",
       "  </tbody>\n",
       "</table>\n",
       "</div>"
      ],
      "text/plain": [
       "           delta          x          y          z\n",
       "250084 -0.310722   393.9696  1893.9456  1689.7320\n",
       "361848 -0.311121   569.2680   370.4760    68.6736\n",
       "652028 -0.312118  1031.9112  1742.1408   872.8776\n",
       "525508 -0.311919   829.5048  2040.3288  1199.9808\n",
       "802800 -0.310722  1270.4616   621.6768   574.6896\n",
       "65177  -0.310921   101.2032  1608.4080  1863.2232"
      ]
     },
     "execution_count": 19,
     "metadata": {},
     "output_type": "execute_result"
    }
   ],
   "source": [
    "tmp = np.where(np.logical_and(logcoords >= -2*sigma-0.001, logcoords <= -2*sigma+0.001))\n",
    "sigma_2_coords = get_coords(tmp)\n",
    "print (len(sigma_2_coords))\n",
    "sigma_2_df = pd.DataFrame({'delta': logcoords[tmp], 'x': sigma_2_coords[:,0], 'y': sigma_2_coords[:,1], \n",
    "                          'z': sigma_2_coords[:,2]}, index = range(len(sigma_2_coords)))\n",
    "sigma_2_df = remove_overlap_previous(sigma_2_df, np.array(already_sel)[:,1:])\n",
    "gc.collect()\n",
    "sel_sigma_2 = sigma_2_df.sample(n=6)\n",
    "sel_sigma_2"
   ]
  },
  {
   "cell_type": "code",
   "execution_count": 20,
   "metadata": {},
   "outputs": [
    {
     "data": {
      "text/html": [
       "<div>\n",
       "<style scoped>\n",
       "    .dataframe tbody tr th:only-of-type {\n",
       "        vertical-align: middle;\n",
       "    }\n",
       "\n",
       "    .dataframe tbody tr th {\n",
       "        vertical-align: top;\n",
       "    }\n",
       "\n",
       "    .dataframe thead th {\n",
       "        text-align: right;\n",
       "    }\n",
       "</style>\n",
       "<table border=\"1\" class=\"dataframe\">\n",
       "  <thead>\n",
       "    <tr style=\"text-align: right;\">\n",
       "      <th></th>\n",
       "      <th>delta</th>\n",
       "      <th>x</th>\n",
       "      <th>y</th>\n",
       "      <th>z</th>\n",
       "    </tr>\n",
       "  </thead>\n",
       "  <tbody>\n",
       "    <tr>\n",
       "      <th>1</th>\n",
       "      <td>-0.310722</td>\n",
       "      <td>393.9696</td>\n",
       "      <td>1893.9456</td>\n",
       "      <td>1689.7320</td>\n",
       "    </tr>\n",
       "    <tr>\n",
       "      <th>2</th>\n",
       "      <td>-0.310921</td>\n",
       "      <td>569.2680</td>\n",
       "      <td>372.2832</td>\n",
       "      <td>65.0592</td>\n",
       "    </tr>\n",
       "    <tr>\n",
       "      <th>3</th>\n",
       "      <td>-0.311121</td>\n",
       "      <td>1031.9112</td>\n",
       "      <td>1742.1408</td>\n",
       "      <td>871.0704</td>\n",
       "    </tr>\n",
       "    <tr>\n",
       "      <th>4</th>\n",
       "      <td>-0.311919</td>\n",
       "      <td>829.5048</td>\n",
       "      <td>2040.3288</td>\n",
       "      <td>1199.9808</td>\n",
       "    </tr>\n",
       "    <tr>\n",
       "      <th>5</th>\n",
       "      <td>-0.310722</td>\n",
       "      <td>1270.4616</td>\n",
       "      <td>621.6768</td>\n",
       "      <td>574.6896</td>\n",
       "    </tr>\n",
       "    <tr>\n",
       "      <th>6</th>\n",
       "      <td>-0.310921</td>\n",
       "      <td>101.2032</td>\n",
       "      <td>1608.4080</td>\n",
       "      <td>1863.2232</td>\n",
       "    </tr>\n",
       "  </tbody>\n",
       "</table>\n",
       "</div>"
      ],
      "text/plain": [
       "      delta          x          y          z\n",
       "1 -0.310722   393.9696  1893.9456  1689.7320\n",
       "2 -0.310921   569.2680   372.2832    65.0592\n",
       "3 -0.311121  1031.9112  1742.1408   871.0704\n",
       "4 -0.311919   829.5048  2040.3288  1199.9808\n",
       "5 -0.310722  1270.4616   621.6768   574.6896\n",
       "6 -0.310921   101.2032  1608.4080  1863.2232"
      ]
     },
     "execution_count": 20,
     "metadata": {},
     "output_type": "execute_result"
    }
   ],
   "source": [
    "out = get_overlapping_regions(sigma_2_df, np.array(sel_sigma_2)[:,1:])\n",
    "out"
   ]
  },
  {
   "cell_type": "markdown",
   "metadata": {},
   "source": [
    "# $-2\\sigma < log(1+\\delta) \\le -1\\sigma$ "
   ]
  },
  {
   "cell_type": "code",
   "execution_count": null,
   "metadata": {},
   "outputs": [],
   "source": [
    "# tmp = np.where(np.logical_and(logcoords > -2*sigma, logcoords <= -1*sigma))\n",
    "# sigma_2_coords = get_coords(tmp)\n",
    "# print (len(sigma_2_coords))\n",
    "# sigma_2_df = pd.DataFrame({'delta': logcoords[tmp], 'x': sigma_2_coords[:,0], 'y': sigma_2_coords[:,1], \n",
    "#                           'z': sigma_2_coords[:,2]}, index = range(len(sigma_2_coords)))\n",
    "# sigma_2_df = sigma_2_df.sort_values(by=['delta'], ascending=False).reset_index(drop=True)\n",
    "# gc.collect()"
   ]
  },
  {
   "cell_type": "markdown",
   "metadata": {},
   "source": [
    "# $2\\sigma < log(1+\\delta) \\le 3\\sigma$ "
   ]
  },
  {
   "cell_type": "code",
   "execution_count": null,
   "metadata": {},
   "outputs": [],
   "source": [
    "# tmp = np.where(np.logical_and(logcoords > 2*sigma, logcoords <= 3*sigma))\n",
    "# sigma3_coords = get_coords(tmp)\n",
    "# print (len(sigma3_coords))\n",
    "# sigma3_df = pd.DataFrame({'delta': logcoords[tmp], 'x': sigma3_coords[:,0], 'y': sigma3_coords[:,1], \n",
    "#                           'z': sigma3_coords[:,2]}, index = range(len(sigma3_coords)))\n",
    "# sigma3_df = sigma3_df.sort_values(by=['delta'], ascending=False).reset_index(drop=True)\n",
    "# gc.collect()"
   ]
  },
  {
   "cell_type": "markdown",
   "metadata": {},
   "source": [
    "# $-3\\sigma < log(1+\\delta) \\le -2\\sigma$ "
   ]
  },
  {
   "cell_type": "code",
   "execution_count": null,
   "metadata": {},
   "outputs": [],
   "source": [
    "# tmp = np.where(np.logical_and(logcoords > -3*sigma, logcoords <= -2*sigma))\n",
    "# sigma_3_coords = get_coords(tmp)\n",
    "# print (len(sigma_3_coords))\n",
    "# sigma_3_df = pd.DataFrame({'delta': logcoords[tmp], 'x': sigma_3_coords[:,0], 'y': sigma_3_coords[:,1], \n",
    "#                           'z': sigma_3_coords[:,2]}, index = range(len(sigma_3_coords)))\n",
    "# sigma_3_df = sigma_3_df.sort_values(by=['delta'], ascending=False).reset_index(drop=True)\n",
    "# gc.collect()"
   ]
  },
  {
   "cell_type": "markdown",
   "metadata": {},
   "source": [
    "# $3\\sigma < log(1+\\delta) \\le 4\\sigma$ "
   ]
  },
  {
   "cell_type": "code",
   "execution_count": null,
   "metadata": {},
   "outputs": [],
   "source": [
    "# tmp = np.where(np.logical_and(logcoords > 3*sigma, logcoords <= 4*sigma))\n",
    "# sigma4_coords = get_coords(tmp)\n",
    "# print (len(sigma4_coords))\n",
    "# sigma4_df = pd.DataFrame({'delta': logcoords[tmp], 'x': sigma4_coords[:,0], 'y': sigma4_coords[:,1], \n",
    "#                           'z': sigma4_coords[:,2]}, index = range(len(sigma4_coords)))\n",
    "# sigma4_df = sigma4_df.sort_values(by=['delta'], ascending=False).reset_index(drop=True)\n",
    "# gc.collect()"
   ]
  },
  {
   "cell_type": "markdown",
   "metadata": {},
   "source": [
    "# $-4\\sigma < log(1+\\delta) \\le -3\\sigma$ "
   ]
  },
  {
   "cell_type": "code",
   "execution_count": null,
   "metadata": {},
   "outputs": [],
   "source": [
    "# tmp = np.where(np.logical_and(logcoords > -4*sigma, logcoords <= -3*sigma))\n",
    "# sigma_4_coords = get_coords(tmp)\n",
    "# print (len(sigma_4_coords))\n",
    "# sigma_4_df = pd.DataFrame({'delta': logcoords[tmp], 'x': sigma_4_coords[:,0], 'y': sigma_4_coords[:,1], \n",
    "#                           'z': sigma_4_coords[:,2]}, index = range(len(sigma_4_coords)))\n",
    "# sigma_4_df = sigma_4_df.sort_values(by=['delta'], ascending=False).reset_index(drop=True)\n",
    "# gc.collect()"
   ]
  },
  {
   "cell_type": "markdown",
   "metadata": {},
   "source": [
    "# $4\\sigma < log(1+\\delta) \\le 5\\sigma$ "
   ]
  },
  {
   "cell_type": "code",
   "execution_count": null,
   "metadata": {},
   "outputs": [],
   "source": [
    "# tmp = np.where(np.logical_and(logcoords > 4*sigma, logcoords <= 5*sigma))\n",
    "# sigma5_coords = get_coords(tmp)\n",
    "# print (len(sigma5_coords))\n",
    "# sigma5_df = pd.DataFrame({'delta': logcoords[tmp], 'x': sigma5_coords[:,0], 'y': sigma5_coords[:,1], \n",
    "#                           'z': sigma5_coords[:,2]}, index = range(len(sigma5_coords)))\n",
    "# sigma5_df = sigma5_df.sort_values(by=['delta'], ascending=False).reset_index(drop=True)\n",
    "# gc.collect()"
   ]
  },
  {
   "cell_type": "markdown",
   "metadata": {},
   "source": [
    "# $-5\\sigma < log(1+\\delta) \\le -4\\sigma$ "
   ]
  },
  {
   "cell_type": "code",
   "execution_count": null,
   "metadata": {},
   "outputs": [],
   "source": [
    "# tmp = np.where(np.logical_and(logcoords > -5*sigma, logcoords <= -4*sigma))\n",
    "# sigma_5_coords = get_coords(tmp)\n",
    "# print (len(sigma_5_coords))\n",
    "# sigma_5_df = pd.DataFrame({'delta': logcoords[tmp], 'x': sigma_5_coords[:,0], 'y': sigma_5_coords[:,1], \n",
    "#                           'z': sigma_5_coords[:,2]}, index = range(len(sigma_5_coords)))\n",
    "# sigma_5_df = sigma_5_df.sort_values(by=['delta'], ascending=False).reset_index(drop=True)\n",
    "# gc.collect()"
   ]
  },
  {
   "cell_type": "markdown",
   "metadata": {},
   "source": [
    "# $5\\sigma < log(1+\\delta) \\le 6\\sigma$ "
   ]
  },
  {
   "cell_type": "code",
   "execution_count": null,
   "metadata": {},
   "outputs": [],
   "source": [
    "# tmp = np.where(np.logical_and(logcoords > 5*sigma, logcoords <= 6*sigma))\n",
    "# sigma6_coords = get_coords(tmp)\n",
    "# print (len(sigma6_coords))\n",
    "# sigma6_df = pd.DataFrame({'delta': logcoords[tmp], 'x': sigma6_coords[:,0], 'y': sigma6_coords[:,1], \n",
    "#                           'z': sigma6_coords[:,2]}, index = range(len(sigma6_coords)))\n",
    "# sigma6_df = sigma6_df.sort_values(by=['delta'], ascending=False).reset_index(drop=True)\n",
    "# gc.collect()"
   ]
  },
  {
   "cell_type": "markdown",
   "metadata": {},
   "source": [
    "# $-6\\sigma < log(1+\\delta) \\le -5\\sigma$ "
   ]
  },
  {
   "cell_type": "code",
   "execution_count": null,
   "metadata": {},
   "outputs": [],
   "source": [
    "# tmp = np.where(np.logical_and(logcoords > -6*sigma, logcoords <= -5*sigma))\n",
    "# sigma_6_coords = get_coords(tmp)\n",
    "# print (len(sigma_6_coords))\n",
    "# sigma_6_df = pd.DataFrame({'delta': logcoords[tmp], 'x': sigma_6_coords[:,0], 'y': sigma_6_coords[:,1], \n",
    "#                           'z': sigma_6_coords[:,2]}, index = range(len(sigma_6_coords)))\n",
    "# sigma_6_df = sigma_6_df.sort_values(by=['delta'], ascending=False).reset_index(drop=True)\n",
    "# gc.collect()"
   ]
  },
  {
   "cell_type": "code",
   "execution_count": null,
   "metadata": {},
   "outputs": [],
   "source": []
  },
  {
   "cell_type": "code",
   "execution_count": null,
   "metadata": {},
   "outputs": [],
   "source": []
  }
 ],
 "metadata": {
  "kernelspec": {
   "display_name": "Python 3",
   "language": "python",
   "name": "python3"
  },
  "language_info": {
   "codemirror_mode": {
    "name": "ipython",
    "version": 3
   },
   "file_extension": ".py",
   "mimetype": "text/x-python",
   "name": "python",
   "nbconvert_exporter": "python",
   "pygments_lexer": "ipython3",
   "version": "3.6.5"
  }
 },
 "nbformat": 4,
 "nbformat_minor": 2
}
