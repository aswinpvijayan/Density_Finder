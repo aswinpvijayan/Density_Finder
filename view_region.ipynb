{
 "cells": [
  {
   "cell_type": "markdown",
   "metadata": {},
   "source": [
    "# Plotting dark matter box coordinates in 3d, to get an idea of the  selected region"
   ]
  },
  {
   "cell_type": "markdown",
   "metadata": {},
   "source": [
    "Running this requires the `read_eagle_files` routine that can be found here: https://gitlab.cosma.dur.ac.uk/jch/Read_Eagle"
   ]
  },
  {
   "cell_type": "code",
   "execution_count": 1,
   "metadata": {},
   "outputs": [
    {
     "name": "stderr",
     "output_type": "stream",
     "text": [
      "/cosma/local/Python/2.7.3/lib/python2.7/site-packages/h5py/__init__.py:34: FutureWarning: Conversion of the second argument of issubdtype from `float` to `np.floating` is deprecated. In future, it will be treated as `np.float64 == np.dtype(float).type`.\n",
      "  from ._conv import register_converters as _register_converters\n"
     ]
    }
   ],
   "source": [
    "%matplotlib nbagg\n",
    "import matplotlib as mpl\n",
    "from mpl_toolkits.mplot3d import Axes3D\n",
    "import matplotlib.pyplot as plt\n",
    "import numpy as np\n",
    "import read_eagle_files \n",
    "import pandas as pd\n",
    "import gc\n",
    "\n",
    "\n",
    "h = 0.6777 #Hubble parameter being used in the simulations\n",
    "boxsize = 2168.64 #Boxsize in h^-1 units"
   ]
  },
  {
   "cell_type": "code",
   "execution_count": 2,
   "metadata": {},
   "outputs": [],
   "source": [
    "def create_3d(coords):\n",
    "\n",
    "    # Do the plotting in a single call.\n",
    "    fig = plt.figure(figsize=(10,10))\n",
    "    ax = fig.gca(projection='3d')\n",
    "    ax.scatter(coords[:,0], coords[:,1], coords[:,2], s = 0.1)\n",
    "    ax.view_init(elev=8, azim=17)\n",
    "    return fig, ax\n",
    "    "
   ]
  },
  {
   "cell_type": "code",
   "execution_count": 3,
   "metadata": {},
   "outputs": [],
   "source": [
    "# Returns the position of particles within a box of side length 2 x dist, given the \n",
    "# center. Option turn on periodic box corrections.\n",
    "\n",
    "def get_coords(coords, dist, per_corr = 'off'):\n",
    "    \n",
    "    grp_centre = coords\n",
    "    \n",
    "    #Should be in h^-1 cMpc\n",
    "    xpos = grp_centre[0]\n",
    "    ypos = grp_centre[1]\n",
    "    zpos = grp_centre[2]\n",
    "\n",
    "    xmin = xpos - (dist)\n",
    "    xmax = xpos + (dist)\n",
    "    ymin = ypos - (dist)\n",
    "    ymax = ypos + (dist)\n",
    "    zmin = zpos - (dist)\n",
    "    zmax = zpos + (dist)\n",
    "\n",
    "    box = [xmin, xmax, ymin, ymax, zmin, zmax]\n",
    "\n",
    "    \n",
    "    snap_dir = '/cosma5/data/dp004/PROJECTS/Eagle/dm_eagle_volume_L3200/snapdir_002/snapshot_L3200_002.0.hdf5'\n",
    "    snap = read_eagle_files.read_eagle.EagleSnapshot(snap_dir)\n",
    "    \n",
    "    #Give values in terms of Mpc\n",
    "    snap.select_region(box[0], box[1], box[2], box[3], box[4], box[5])\n",
    "    pos = snap.read_dataset(1, \"Coordinates\")\n",
    "    \n",
    "    coords_temp = pos - grp_centre\n",
    "    \n",
    "    #Correcting for the periodic box if the points are close to the boundary\n",
    "    \n",
    "    if per_corr == 'on':\n",
    "    \n",
    "        ok = np.where(coords_temp[:,0]>=boxsize/2.)\n",
    "        coords_temp[:,0][ok] -= boxsize\n",
    "\n",
    "        ok = np.where(coords_temp[:,1]>=boxsize/2.)\n",
    "        coords_temp[:,1][ok] -= boxsize\n",
    "\n",
    "        ok = np.where(coords_temp[:,2]>=boxsize/2.)\n",
    "        coords_temp[:,2][ok] -= boxsize\n",
    "\n",
    "        ok = np.where(coords_temp[:,0]<=-boxsize/2.)\n",
    "        coords_temp[:,0][ok] += boxsize\n",
    "\n",
    "        ok = np.where(coords_temp[:,1]<=-boxsize/2.)\n",
    "        coords_temp[:,1][ok] += boxsize\n",
    "\n",
    "        ok = np.where(coords_temp[:,2]<=-boxsize/2.)\n",
    "        coords_temp[:,2][ok] += boxsize\n",
    "\n",
    "        tmp = np.sum((coords_temp)**2, axis=1)**0.5\n",
    "        ok = np.where(tmp <= 10.)\n",
    "    \n",
    "    \n",
    "    gc.collect()\n",
    "    \n",
    "    return coords_temp[ok]"
   ]
  },
  {
   "cell_type": "code",
   "execution_count": 4,
   "metadata": {},
   "outputs": [],
   "source": [
    "def plot_region(center, delta, name):\n",
    "    \n",
    "    pos = get_coords(center, dist = 11)\n",
    "    print 'Number of DM particles: ', (len(pos))\n",
    "    fig, axs = create_3d(pos)\n",
    "    axs.set_title(r'$\\delta$ = {}, center = ({},{},{})'.format(delta, center[0], center[1], center[2]))\n",
    "    plt.savefig('{}.png'.format(name))\n",
    "    plt.show()\n"
   ]
  }
 ],
 "metadata": {
  "kernelspec": {
   "display_name": "Python 2",
   "language": "python",
   "name": "python2"
  },
  "language_info": {
   "codemirror_mode": {
    "name": "ipython",
    "version": 2
   },
   "file_extension": ".py",
   "mimetype": "text/x-python",
   "name": "python",
   "nbconvert_exporter": "python",
   "pygments_lexer": "ipython2",
   "version": "2.7.3"
  }
 },
 "nbformat": 4,
 "nbformat_minor": 2
}
